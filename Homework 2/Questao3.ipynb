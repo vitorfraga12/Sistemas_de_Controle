{
 "cells": [
  {
   "cell_type": "markdown",
   "metadata": {},
   "source": [
    "# Question 3"
   ]
  },
  {
   "cell_type": "code",
   "execution_count": 1,
   "metadata": {},
   "outputs": [
    {
     "name": "stdout",
     "output_type": "stream",
     "text": [
      "\n",
      "A função de transferência do sistema é:\n",
      " 2*s/(s**2 + 2*s + 5)\n",
      "\n",
      "A função de transferência do sistema é:\n",
      " [[0.00000000e+00 2.00000000e+00 1.77635684e-15]]/[1. 2. 5.]\n"
     ]
    }
   ],
   "source": [
    "from sympy import symbols, Matrix, eye\n",
    "from scipy import signal\n",
    "\n",
    "#Sabemos que para encontrar a função de transferência dessa questão é necessário utilizar da seguinte equação:\n",
    "#G(s) = C(Is - A)^-1 * B + D\n",
    "#Declarando as variáveis de acordo com a equação\n",
    "\n",
    "s = symbols('s')\n",
    "\n",
    "A = Matrix([[0, 1], [-5, -2]])\n",
    "B = Matrix([[0], [2]])\n",
    "C = Matrix([[0, 1]])\n",
    "Is = s*eye(2)\n",
    "\n",
    "G_s = (C * (Is - A).inv() * B)\n",
    "G_s = G_s[0]\n",
    "print(f'\\nA função de transferência do sistema é:\\n {G_s}')\n",
    "\n",
    "# Verificando a função de transferência com a função ss2tf\n",
    "A = [[0, 1], [-5, -2]]\n",
    "B = [[0], [2]]\n",
    "C = [[0, 1]]\n",
    "D = [[0]]\n",
    "\n",
    "num, den = signal.ss2tf(A, B, C, D)\n",
    "print(f'\\nA função de transferência do sistema é:\\n {num}/{den}')"
   ]
  }
 ],
 "metadata": {
  "kernelspec": {
   "display_name": "base",
   "language": "python",
   "name": "python3"
  },
  "language_info": {
   "codemirror_mode": {
    "name": "ipython",
    "version": 3
   },
   "file_extension": ".py",
   "mimetype": "text/x-python",
   "name": "python",
   "nbconvert_exporter": "python",
   "pygments_lexer": "ipython3",
   "version": "3.11.5"
  }
 },
 "nbformat": 4,
 "nbformat_minor": 2
}
